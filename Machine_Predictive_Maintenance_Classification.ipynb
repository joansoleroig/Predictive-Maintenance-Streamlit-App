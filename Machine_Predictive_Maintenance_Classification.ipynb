{
  "cells": [
    {
      "cell_type": "code",
      "execution_count": 20,
      "metadata": {
        "id": "l-K8laRt-ikq"
      },
      "outputs": [],
      "source": [
        "import numpy as np\n",
        "import pandas as pd\n",
        "import matplotlib.pyplot as plt\n",
        "import seaborn as sns\n",
        "import scikit-learn as sklearn\n",
        "%matplotlib inline"
      ]
    },
    {
      "cell_type": "code",
      "execution_count": 21,
      "metadata": {
        "id": "sDGm1a1G-4Y6"
      },
      "outputs": [],
      "source": [
        "df = pd.read_csv('predictive_maintenance.csv')"
      ]
    },
    {
      "cell_type": "code",
      "execution_count": 22,
      "metadata": {
        "colab": {
          "base_uri": "https://localhost:8080/",
          "height": 267
        },
        "id": "qKoq9SAt_CS-",
        "outputId": "7d535348-3260-404b-9c7c-ef12ac3e2960"
      },
      "outputs": [
        {
          "data": {
            "text/html": [
              "<div>\n",
              "<style scoped>\n",
              "    .dataframe tbody tr th:only-of-type {\n",
              "        vertical-align: middle;\n",
              "    }\n",
              "\n",
              "    .dataframe tbody tr th {\n",
              "        vertical-align: top;\n",
              "    }\n",
              "\n",
              "    .dataframe thead th {\n",
              "        text-align: right;\n",
              "    }\n",
              "</style>\n",
              "<table border=\"1\" class=\"dataframe\">\n",
              "  <thead>\n",
              "    <tr style=\"text-align: right;\">\n",
              "      <th></th>\n",
              "      <th>UDI</th>\n",
              "      <th>Product ID</th>\n",
              "      <th>Type</th>\n",
              "      <th>Air temperature [K]</th>\n",
              "      <th>Process temperature [K]</th>\n",
              "      <th>Rotational speed [rpm]</th>\n",
              "      <th>Torque [Nm]</th>\n",
              "      <th>Tool wear [min]</th>\n",
              "      <th>Target</th>\n",
              "      <th>Failure Type</th>\n",
              "    </tr>\n",
              "  </thead>\n",
              "  <tbody>\n",
              "    <tr>\n",
              "      <th>0</th>\n",
              "      <td>1</td>\n",
              "      <td>M14860</td>\n",
              "      <td>M</td>\n",
              "      <td>298.1</td>\n",
              "      <td>308.6</td>\n",
              "      <td>1551</td>\n",
              "      <td>42.8</td>\n",
              "      <td>0</td>\n",
              "      <td>0</td>\n",
              "      <td>No Failure</td>\n",
              "    </tr>\n",
              "    <tr>\n",
              "      <th>1</th>\n",
              "      <td>2</td>\n",
              "      <td>L47181</td>\n",
              "      <td>L</td>\n",
              "      <td>298.2</td>\n",
              "      <td>308.7</td>\n",
              "      <td>1408</td>\n",
              "      <td>46.3</td>\n",
              "      <td>3</td>\n",
              "      <td>0</td>\n",
              "      <td>No Failure</td>\n",
              "    </tr>\n",
              "    <tr>\n",
              "      <th>2</th>\n",
              "      <td>3</td>\n",
              "      <td>L47182</td>\n",
              "      <td>L</td>\n",
              "      <td>298.1</td>\n",
              "      <td>308.5</td>\n",
              "      <td>1498</td>\n",
              "      <td>49.4</td>\n",
              "      <td>5</td>\n",
              "      <td>0</td>\n",
              "      <td>No Failure</td>\n",
              "    </tr>\n",
              "    <tr>\n",
              "      <th>3</th>\n",
              "      <td>4</td>\n",
              "      <td>L47183</td>\n",
              "      <td>L</td>\n",
              "      <td>298.2</td>\n",
              "      <td>308.6</td>\n",
              "      <td>1433</td>\n",
              "      <td>39.5</td>\n",
              "      <td>7</td>\n",
              "      <td>0</td>\n",
              "      <td>No Failure</td>\n",
              "    </tr>\n",
              "    <tr>\n",
              "      <th>4</th>\n",
              "      <td>5</td>\n",
              "      <td>L47184</td>\n",
              "      <td>L</td>\n",
              "      <td>298.2</td>\n",
              "      <td>308.7</td>\n",
              "      <td>1408</td>\n",
              "      <td>40.0</td>\n",
              "      <td>9</td>\n",
              "      <td>0</td>\n",
              "      <td>No Failure</td>\n",
              "    </tr>\n",
              "  </tbody>\n",
              "</table>\n",
              "</div>"
            ],
            "text/plain": [
              "   UDI Product ID Type  Air temperature [K]  Process temperature [K]  \\\n",
              "0    1     M14860    M                298.1                    308.6   \n",
              "1    2     L47181    L                298.2                    308.7   \n",
              "2    3     L47182    L                298.1                    308.5   \n",
              "3    4     L47183    L                298.2                    308.6   \n",
              "4    5     L47184    L                298.2                    308.7   \n",
              "\n",
              "   Rotational speed [rpm]  Torque [Nm]  Tool wear [min]  Target Failure Type  \n",
              "0                    1551         42.8                0       0   No Failure  \n",
              "1                    1408         46.3                3       0   No Failure  \n",
              "2                    1498         49.4                5       0   No Failure  \n",
              "3                    1433         39.5                7       0   No Failure  \n",
              "4                    1408         40.0                9       0   No Failure  "
            ]
          },
          "execution_count": 22,
          "metadata": {},
          "output_type": "execute_result"
        }
      ],
      "source": [
        "df.head()"
      ]
    },
    {
      "cell_type": "code",
      "execution_count": 23,
      "metadata": {
        "colab": {
          "base_uri": "https://localhost:8080/"
        },
        "id": "un324NVR_DQU",
        "outputId": "287e7018-24e2-4cc5-886c-8528b8b23492"
      },
      "outputs": [
        {
          "name": "stdout",
          "output_type": "stream",
          "text": [
            "<class 'pandas.core.frame.DataFrame'>\n",
            "RangeIndex: 10000 entries, 0 to 9999\n",
            "Data columns (total 10 columns):\n",
            " #   Column                   Non-Null Count  Dtype  \n",
            "---  ------                   --------------  -----  \n",
            " 0   UDI                      10000 non-null  int64  \n",
            " 1   Product ID               10000 non-null  object \n",
            " 2   Type                     10000 non-null  object \n",
            " 3   Air temperature [K]      10000 non-null  float64\n",
            " 4   Process temperature [K]  10000 non-null  float64\n",
            " 5   Rotational speed [rpm]   10000 non-null  int64  \n",
            " 6   Torque [Nm]              10000 non-null  float64\n",
            " 7   Tool wear [min]          10000 non-null  int64  \n",
            " 8   Target                   10000 non-null  int64  \n",
            " 9   Failure Type             10000 non-null  object \n",
            "dtypes: float64(3), int64(4), object(3)\n",
            "memory usage: 781.4+ KB\n"
          ]
        }
      ],
      "source": [
        "df.info()"
      ]
    },
    {
      "cell_type": "code",
      "execution_count": 24,
      "metadata": {
        "colab": {
          "base_uri": "https://localhost:8080/"
        },
        "id": "nOQvh2Q2F_Wg",
        "outputId": "bef65f11-121e-42a2-80b9-91dfce864f1a"
      },
      "outputs": [
        {
          "data": {
            "text/plain": [
              "3"
            ]
          },
          "execution_count": 24,
          "metadata": {},
          "output_type": "execute_result"
        }
      ],
      "source": [
        "df['Type'].nunique()"
      ]
    },
    {
      "cell_type": "code",
      "execution_count": 25,
      "metadata": {
        "colab": {
          "base_uri": "https://localhost:8080/"
        },
        "id": "f0u-QF4U_Hg_",
        "outputId": "d7c0d836-c74b-47f3-f317-841061384e14"
      },
      "outputs": [
        {
          "data": {
            "text/plain": [
              "UDI                        0\n",
              "Product ID                 0\n",
              "Type                       0\n",
              "Air temperature [K]        0\n",
              "Process temperature [K]    0\n",
              "Rotational speed [rpm]     0\n",
              "Torque [Nm]                0\n",
              "Tool wear [min]            0\n",
              "Target                     0\n",
              "Failure Type               0\n",
              "dtype: int64"
            ]
          },
          "execution_count": 25,
          "metadata": {},
          "output_type": "execute_result"
        }
      ],
      "source": [
        "df.isnull().sum()"
      ]
    },
    {
      "cell_type": "markdown",
      "metadata": {
        "id": "uOJJXSVsAkUk"
      },
      "source": [
        "#Some Understandings : <br>\n",
        "1. First we need to transform some columns by ordinal encoding/ label encoding<br>\n",
        "2. There are no missing values<br>\n",
        "3. `Type` Column has 3 types - L/M/H which is ordinal data , so apply ordinal encoding here<br>\n",
        "The target variable here is `Target` only, i.e. to predict failure or not\n",
        "4. Notice that, there are two output target variables `Target` and `Failure Type`<br> So prediect here multiclass Failure Type Variable<br>\n",
        "\n",
        "5. This is a classification problem <br>"
      ]
    },
    {
      "cell_type": "code",
      "execution_count": 26,
      "metadata": {
        "colab": {
          "base_uri": "https://localhost:8080/",
          "height": 589
        },
        "id": "KMr6ACk-W_mq",
        "outputId": "bf06ee90-8326-43cd-8c09-bd602412bab7"
      },
      "outputs": [
        {
          "data": {
            "text/html": [
              "<div>\n",
              "<style scoped>\n",
              "    .dataframe tbody tr th:only-of-type {\n",
              "        vertical-align: middle;\n",
              "    }\n",
              "\n",
              "    .dataframe tbody tr th {\n",
              "        vertical-align: top;\n",
              "    }\n",
              "\n",
              "    .dataframe thead th {\n",
              "        text-align: right;\n",
              "    }\n",
              "</style>\n",
              "<table border=\"1\" class=\"dataframe\">\n",
              "  <thead>\n",
              "    <tr style=\"text-align: right;\">\n",
              "      <th></th>\n",
              "      <th>UDI</th>\n",
              "      <th>Product ID</th>\n",
              "      <th>Type</th>\n",
              "      <th>Air temperature [K]</th>\n",
              "      <th>Process temperature [K]</th>\n",
              "      <th>Rotational speed [rpm]</th>\n",
              "      <th>Torque [Nm]</th>\n",
              "      <th>Tool wear [min]</th>\n",
              "      <th>Target</th>\n",
              "      <th>Failure Type</th>\n",
              "    </tr>\n",
              "  </thead>\n",
              "  <tbody>\n",
              "    <tr>\n",
              "      <th>50</th>\n",
              "      <td>51</td>\n",
              "      <td>L47230</td>\n",
              "      <td>L</td>\n",
              "      <td>298.9</td>\n",
              "      <td>309.1</td>\n",
              "      <td>2861</td>\n",
              "      <td>4.6</td>\n",
              "      <td>143</td>\n",
              "      <td>1</td>\n",
              "      <td>Power Failure</td>\n",
              "    </tr>\n",
              "    <tr>\n",
              "      <th>69</th>\n",
              "      <td>70</td>\n",
              "      <td>L47249</td>\n",
              "      <td>L</td>\n",
              "      <td>298.9</td>\n",
              "      <td>309.0</td>\n",
              "      <td>1410</td>\n",
              "      <td>65.7</td>\n",
              "      <td>191</td>\n",
              "      <td>1</td>\n",
              "      <td>Power Failure</td>\n",
              "    </tr>\n",
              "    <tr>\n",
              "      <th>77</th>\n",
              "      <td>78</td>\n",
              "      <td>L47257</td>\n",
              "      <td>L</td>\n",
              "      <td>298.8</td>\n",
              "      <td>308.9</td>\n",
              "      <td>1455</td>\n",
              "      <td>41.3</td>\n",
              "      <td>208</td>\n",
              "      <td>1</td>\n",
              "      <td>Tool Wear Failure</td>\n",
              "    </tr>\n",
              "    <tr>\n",
              "      <th>160</th>\n",
              "      <td>161</td>\n",
              "      <td>L47340</td>\n",
              "      <td>L</td>\n",
              "      <td>298.4</td>\n",
              "      <td>308.2</td>\n",
              "      <td>1282</td>\n",
              "      <td>60.7</td>\n",
              "      <td>216</td>\n",
              "      <td>1</td>\n",
              "      <td>Overstrain Failure</td>\n",
              "    </tr>\n",
              "    <tr>\n",
              "      <th>161</th>\n",
              "      <td>162</td>\n",
              "      <td>L47341</td>\n",
              "      <td>L</td>\n",
              "      <td>298.3</td>\n",
              "      <td>308.1</td>\n",
              "      <td>1412</td>\n",
              "      <td>52.3</td>\n",
              "      <td>218</td>\n",
              "      <td>1</td>\n",
              "      <td>Overstrain Failure</td>\n",
              "    </tr>\n",
              "    <tr>\n",
              "      <th>...</th>\n",
              "      <td>...</td>\n",
              "      <td>...</td>\n",
              "      <td>...</td>\n",
              "      <td>...</td>\n",
              "      <td>...</td>\n",
              "      <td>...</td>\n",
              "      <td>...</td>\n",
              "      <td>...</td>\n",
              "      <td>...</td>\n",
              "      <td>...</td>\n",
              "    </tr>\n",
              "    <tr>\n",
              "      <th>9758</th>\n",
              "      <td>9759</td>\n",
              "      <td>L56938</td>\n",
              "      <td>L</td>\n",
              "      <td>298.6</td>\n",
              "      <td>309.8</td>\n",
              "      <td>2271</td>\n",
              "      <td>16.2</td>\n",
              "      <td>218</td>\n",
              "      <td>1</td>\n",
              "      <td>Tool Wear Failure</td>\n",
              "    </tr>\n",
              "    <tr>\n",
              "      <th>9764</th>\n",
              "      <td>9765</td>\n",
              "      <td>L56944</td>\n",
              "      <td>L</td>\n",
              "      <td>298.5</td>\n",
              "      <td>309.5</td>\n",
              "      <td>1294</td>\n",
              "      <td>66.7</td>\n",
              "      <td>12</td>\n",
              "      <td>1</td>\n",
              "      <td>Power Failure</td>\n",
              "    </tr>\n",
              "    <tr>\n",
              "      <th>9822</th>\n",
              "      <td>9823</td>\n",
              "      <td>L57002</td>\n",
              "      <td>L</td>\n",
              "      <td>298.5</td>\n",
              "      <td>309.4</td>\n",
              "      <td>1360</td>\n",
              "      <td>60.9</td>\n",
              "      <td>187</td>\n",
              "      <td>1</td>\n",
              "      <td>Overstrain Failure</td>\n",
              "    </tr>\n",
              "    <tr>\n",
              "      <th>9830</th>\n",
              "      <td>9831</td>\n",
              "      <td>L57010</td>\n",
              "      <td>L</td>\n",
              "      <td>298.3</td>\n",
              "      <td>309.3</td>\n",
              "      <td>1337</td>\n",
              "      <td>56.1</td>\n",
              "      <td>206</td>\n",
              "      <td>1</td>\n",
              "      <td>Overstrain Failure</td>\n",
              "    </tr>\n",
              "    <tr>\n",
              "      <th>9974</th>\n",
              "      <td>9975</td>\n",
              "      <td>L57154</td>\n",
              "      <td>L</td>\n",
              "      <td>298.6</td>\n",
              "      <td>308.2</td>\n",
              "      <td>1361</td>\n",
              "      <td>68.2</td>\n",
              "      <td>172</td>\n",
              "      <td>1</td>\n",
              "      <td>Power Failure</td>\n",
              "    </tr>\n",
              "  </tbody>\n",
              "</table>\n",
              "<p>339 rows × 10 columns</p>\n",
              "</div>"
            ],
            "text/plain": [
              "       UDI Product ID Type  Air temperature [K]  Process temperature [K]  \\\n",
              "50      51     L47230    L                298.9                    309.1   \n",
              "69      70     L47249    L                298.9                    309.0   \n",
              "77      78     L47257    L                298.8                    308.9   \n",
              "160    161     L47340    L                298.4                    308.2   \n",
              "161    162     L47341    L                298.3                    308.1   \n",
              "...    ...        ...  ...                  ...                      ...   \n",
              "9758  9759     L56938    L                298.6                    309.8   \n",
              "9764  9765     L56944    L                298.5                    309.5   \n",
              "9822  9823     L57002    L                298.5                    309.4   \n",
              "9830  9831     L57010    L                298.3                    309.3   \n",
              "9974  9975     L57154    L                298.6                    308.2   \n",
              "\n",
              "      Rotational speed [rpm]  Torque [Nm]  Tool wear [min]  Target  \\\n",
              "50                      2861          4.6              143       1   \n",
              "69                      1410         65.7              191       1   \n",
              "77                      1455         41.3              208       1   \n",
              "160                     1282         60.7              216       1   \n",
              "161                     1412         52.3              218       1   \n",
              "...                      ...          ...              ...     ...   \n",
              "9758                    2271         16.2              218       1   \n",
              "9764                    1294         66.7               12       1   \n",
              "9822                    1360         60.9              187       1   \n",
              "9830                    1337         56.1              206       1   \n",
              "9974                    1361         68.2              172       1   \n",
              "\n",
              "            Failure Type  \n",
              "50         Power Failure  \n",
              "69         Power Failure  \n",
              "77     Tool Wear Failure  \n",
              "160   Overstrain Failure  \n",
              "161   Overstrain Failure  \n",
              "...                  ...  \n",
              "9758   Tool Wear Failure  \n",
              "9764       Power Failure  \n",
              "9822  Overstrain Failure  \n",
              "9830  Overstrain Failure  \n",
              "9974       Power Failure  \n",
              "\n",
              "[339 rows x 10 columns]"
            ]
          },
          "execution_count": 26,
          "metadata": {},
          "output_type": "execute_result"
        }
      ],
      "source": [
        "df[df['Target']==1]"
      ]
    },
    {
      "cell_type": "code",
      "execution_count": 27,
      "metadata": {
        "colab": {
          "base_uri": "https://localhost:8080/"
        },
        "id": "v66OMhXTAdXd",
        "outputId": "e0c841b2-feca-469d-919e-e101d930f158"
      },
      "outputs": [
        {
          "data": {
            "text/plain": [
              "(8000,)"
            ]
          },
          "execution_count": 27,
          "metadata": {},
          "output_type": "execute_result"
        }
      ],
      "source": [
        "X = df.iloc[:,2:8]\n",
        "y = df.iloc[:,-1]\n",
        "\n",
        "from sklearn.model_selection import train_test_split\n",
        "X_train,X_test,y_train,y_test = train_test_split(X,y,test_size = 0.2,random_state = 42)\n",
        "y_train.shape"
      ]
    },
    {
      "cell_type": "code",
      "execution_count": 28,
      "metadata": {
        "id": "l66hlfE6FS5A"
      },
      "outputs": [],
      "source": [
        "from sklearn.preprocessing import OrdinalEncoder\n",
        "oe = OrdinalEncoder(categories=[['L', 'M', 'H']])\n",
        "oe.fit(X_train[['Type']])\n",
        "X_train['Type'] = oe.transform(X_train[['Type']]).astype(int)\n",
        "X_test['Type'] = oe.transform(X_test[['Type']]).astype(int)"
      ]
    },
    {
      "cell_type": "code",
      "execution_count": 29,
      "metadata": {
        "colab": {
          "base_uri": "https://localhost:8080/",
          "height": 206
        },
        "id": "9z6GUSWf_WFB",
        "outputId": "4994937a-dd71-47e1-f836-50c67688292e"
      },
      "outputs": [
        {
          "data": {
            "text/html": [
              "<div>\n",
              "<style scoped>\n",
              "    .dataframe tbody tr th:only-of-type {\n",
              "        vertical-align: middle;\n",
              "    }\n",
              "\n",
              "    .dataframe tbody tr th {\n",
              "        vertical-align: top;\n",
              "    }\n",
              "\n",
              "    .dataframe thead th {\n",
              "        text-align: right;\n",
              "    }\n",
              "</style>\n",
              "<table border=\"1\" class=\"dataframe\">\n",
              "  <thead>\n",
              "    <tr style=\"text-align: right;\">\n",
              "      <th></th>\n",
              "      <th>Type</th>\n",
              "      <th>Air temperature [K]</th>\n",
              "      <th>Process temperature [K]</th>\n",
              "      <th>Rotational speed [rpm]</th>\n",
              "      <th>Torque [Nm]</th>\n",
              "      <th>Tool wear [min]</th>\n",
              "    </tr>\n",
              "  </thead>\n",
              "  <tbody>\n",
              "    <tr>\n",
              "      <th>9254</th>\n",
              "      <td>0</td>\n",
              "      <td>298.3</td>\n",
              "      <td>309.1</td>\n",
              "      <td>1616</td>\n",
              "      <td>31.1</td>\n",
              "      <td>195</td>\n",
              "    </tr>\n",
              "    <tr>\n",
              "      <th>1561</th>\n",
              "      <td>0</td>\n",
              "      <td>298.2</td>\n",
              "      <td>308.4</td>\n",
              "      <td>1388</td>\n",
              "      <td>53.8</td>\n",
              "      <td>137</td>\n",
              "    </tr>\n",
              "    <tr>\n",
              "      <th>1670</th>\n",
              "      <td>0</td>\n",
              "      <td>298.2</td>\n",
              "      <td>307.8</td>\n",
              "      <td>1528</td>\n",
              "      <td>31.1</td>\n",
              "      <td>194</td>\n",
              "    </tr>\n",
              "    <tr>\n",
              "      <th>6087</th>\n",
              "      <td>1</td>\n",
              "      <td>300.9</td>\n",
              "      <td>310.8</td>\n",
              "      <td>1599</td>\n",
              "      <td>33.0</td>\n",
              "      <td>7</td>\n",
              "    </tr>\n",
              "    <tr>\n",
              "      <th>6669</th>\n",
              "      <td>0</td>\n",
              "      <td>301.4</td>\n",
              "      <td>310.5</td>\n",
              "      <td>1571</td>\n",
              "      <td>33.9</td>\n",
              "      <td>208</td>\n",
              "    </tr>\n",
              "  </tbody>\n",
              "</table>\n",
              "</div>"
            ],
            "text/plain": [
              "      Type  Air temperature [K]  Process temperature [K]  \\\n",
              "9254     0                298.3                    309.1   \n",
              "1561     0                298.2                    308.4   \n",
              "1670     0                298.2                    307.8   \n",
              "6087     1                300.9                    310.8   \n",
              "6669     0                301.4                    310.5   \n",
              "\n",
              "      Rotational speed [rpm]  Torque [Nm]  Tool wear [min]  \n",
              "9254                    1616         31.1              195  \n",
              "1561                    1388         53.8              137  \n",
              "1670                    1528         31.1              194  \n",
              "6087                    1599         33.0                7  \n",
              "6669                    1571         33.9              208  "
            ]
          },
          "execution_count": 29,
          "metadata": {},
          "output_type": "execute_result"
        }
      ],
      "source": [
        "X_train.head()"
      ]
    },
    {
      "cell_type": "code",
      "execution_count": 30,
      "metadata": {
        "id": "M6ZPvYmbSCvR"
      },
      "outputs": [],
      "source": [
        "from sklearn.preprocessing import LabelEncoder\n",
        "categories = ['No Failure', 'Heat Dissipation Failure', 'Power Failure', 'Overstrain Failure', 'Tool Wear Failure', 'Random Failures']\n",
        "custom_encoder = {cat: i for i, cat in enumerate(categories)}\n",
        "y_train_encoded = [custom_encoder.get(cat, len(categories)) for cat in y_train]\n",
        "y_test_encoded = [custom_encoder.get(cat, len(categories)) for cat in y_test]\n",
        "le = LabelEncoder()\n",
        "le.fit(list(custom_encoder.values()))\n",
        "y_train = le.transform(y_train_encoded)\n",
        "y_test = le.transform(y_test_encoded)"
      ]
    },
    {
      "cell_type": "code",
      "execution_count": 31,
      "metadata": {
        "colab": {
          "base_uri": "https://localhost:8080/"
        },
        "id": "b98hqk4WUofO",
        "outputId": "63a65aa2-3dd7-4f52-de32-c6ef2fb3ad74"
      },
      "outputs": [
        {
          "name": "stdout",
          "output_type": "stream",
          "text": [
            "Fitting 5 folds for each of 72 candidates, totalling 360 fits\n",
            "Training Accuracy    : 99.55 %\n",
            "Model Accuracy Score : 94.9 %\n",
            "\u001b[1m--------------------------------------------------------\u001b[0m\n",
            "Classification_Report: \n",
            "               precision    recall  f1-score   support\n",
            "\n",
            "           0       0.99      0.96      0.98      1935\n",
            "           1       0.62      0.87      0.72        15\n",
            "           2       0.62      0.80      0.70        20\n",
            "           3       0.50      0.62      0.55        13\n",
            "           4       0.08      0.18      0.11        11\n",
            "           5       0.00      0.00      0.00         6\n",
            "\n",
            "    accuracy                           0.95      2000\n",
            "   macro avg       0.47      0.57      0.51      2000\n",
            "weighted avg       0.97      0.95      0.96      2000\n",
            "\n",
            "\u001b[1m--------------------------------------------------------\u001b[0m\n"
          ]
        },
        {
          "data": {
            "text/plain": [
              "['predictive_maintenance_model.joblib']"
            ]
          },
          "execution_count": 31,
          "metadata": {},
          "output_type": "execute_result"
        }
      ],
      "source": [
        "from sklearn.tree import DecisionTreeClassifier\n",
        "from sklearn.model_selection import train_test_split, GridSearchCV\n",
        "from sklearn.metrics import accuracy_score, classification_report\n",
        "from imblearn.over_sampling import SMOTE\n",
        "from imblearn.pipeline import Pipeline\n",
        "\n",
        "pipeline = Pipeline([\n",
        "    ('smote', SMOTE(random_state=42)),\n",
        "    ('classifier', DecisionTreeClassifier(random_state=42))\n",
        "])\n",
        "# Define a grid of parameters to test\n",
        "param_grid = {\n",
        "    'classifier__criterion': ['gini', 'entropy'],\n",
        "    'classifier__max_depth': [None, 10, 20, 30],\n",
        "    'classifier__min_samples_split': [2, 5, 10],\n",
        "    'classifier__min_samples_leaf': [1, 2, 4]\n",
        "}\n",
        "# Set up the grid search\n",
        "grid_search = GridSearchCV(pipeline, param_grid, cv=5, scoring='accuracy', verbose=1)\n",
        "grid_search.fit(X_train, y_train)\n",
        "\n",
        "# Best model found by GridSearchCV\n",
        "best_model = grid_search.best_estimator_\n",
        "\n",
        "# Predictions\n",
        "y_pred = best_model.predict(X_test)\n",
        "\n",
        "# Scores\n",
        "train_accuracy = round(best_model.score(X_train, y_train) * 100, 2)\n",
        "test_accuracy = round(accuracy_score(y_test, y_pred) * 100, 2)\n",
        "\n",
        "print(\"Training Accuracy    :\", train_accuracy, \"%\")\n",
        "print(\"Model Accuracy Score :\", test_accuracy, \"%\")\n",
        "print(\"\\033[1m--------------------------------------------------------\\033[0m\")\n",
        "print(\"Classification_Report: \\n\", classification_report(y_test, y_pred))\n",
        "print(\"\\033[1m--------------------------------------------------------\\033[0m\")\n",
        "\n",
        "# save the model in joblib file\n",
        "from joblib import dump\n",
        "dump(best_model, 'model1.joblib')"
      ]
    }
  ],
  "metadata": {
    "colab": {
      "provenance": []
    },
    "kernelspec": {
      "display_name": "Python 3",
      "name": "python3"
    },
    "language_info": {
      "codemirror_mode": {
        "name": "ipython",
        "version": 3
      },
      "file_extension": ".py",
      "mimetype": "text/x-python",
      "name": "python",
      "nbconvert_exporter": "python",
      "pygments_lexer": "ipython3",
      "version": "3.11.8"
    }
  },
  "nbformat": 4,
  "nbformat_minor": 0
}
