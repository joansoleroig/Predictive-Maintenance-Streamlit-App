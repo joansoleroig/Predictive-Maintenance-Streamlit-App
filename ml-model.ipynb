{
 "cells": [
  {
   "cell_type": "code",
   "execution_count": 3,
   "metadata": {},
   "outputs": [
    {
     "name": "stdout",
     "output_type": "stream",
     "text": [
      "   UDI Product ID Type  Air temperature [K]  Process temperature [K]  \\\n",
      "0    1     M14860    M                298.1                    308.6   \n",
      "1    2     L47181    L                298.2                    308.7   \n",
      "2    3     L47182    L                298.1                    308.5   \n",
      "3    4     L47183    L                298.2                    308.6   \n",
      "4    5     L47184    L                298.2                    308.7   \n",
      "\n",
      "   Rotational speed [rpm]  Torque [Nm]  Tool wear [min]  Target Failure Type  \n",
      "0                    1551         42.8                0       0   No Failure  \n",
      "1                    1408         46.3                3       0   No Failure  \n",
      "2                    1498         49.4                5       0   No Failure  \n",
      "3                    1433         39.5                7       0   No Failure  \n",
      "4                    1408         40.0                9       0   No Failure  \n"
     ]
    }
   ],
   "source": [
    "import pandas as pd\n",
    "import numpy as np\n",
    "import matplotlib.pyplot as plt\n",
    "\n",
    "# Read csv\n",
    "df = pd.read_csv('predictive_maintenance.csv')\n",
    "\n",
    "# Print the first 5 rows\n",
    "print(df.head())"
   ]
  },
  {
   "cell_type": "markdown",
   "metadata": {},
   "source": [
    "Model Creation"
   ]
  },
  {
   "cell_type": "code",
   "execution_count": 5,
   "metadata": {},
   "outputs": [],
   "source": [
    "from sklearn.model_selection import train_test_split, GridSearchCV, cross_val_score\n",
    "from sklearn.ensemble import RandomForestClassifier, VotingClassifier\n",
    "from sklearn.metrics import classification_report, accuracy_score\n",
    "from sklearn.preprocessing import StandardScaler\n",
    "from sklearn.decomposition import PCA\n",
    "\n",
    "# Convert categorical variables to dummy variables\n",
    "X = pd.get_dummies(df.drop('Target', axis=1))\n",
    "\n",
    "y = df['Target']\n",
    "\n",
    "# Data preprocessing\n",
    "scaler = StandardScaler()\n",
    "X_scaled = scaler.fit_transform(X)\n",
    "\n",
    "# Feature Engineering: PCA for dimensionality reduction\n",
    "pca = PCA(n_components=0.95)  # retain 95% of variance\n",
    "X_pca = pca.fit_transform(X_scaled)\n",
    "\n",
    "# Splitting the data into train and test sets\n",
    "X_train, X_test, y_train, y_test = train_test_split(X_pca, y, test_size=0.3, random_state=42)\n",
    "\n",
    "# Model Training with Hyperparameter Tuning\n",
    "param_grid = {\n",
    "    'n_estimators': [100, 200, 300],\n",
    "    'max_features': ['auto', 'sqrt', 'log2'],\n",
    "    'max_depth': [4, 6, 8],\n",
    "    'criterion': ['gini', 'entropy']\n",
    "}\n",
    "\n",
    "rfc = RandomForestClassifier(random_state=42)\n",
    "cv_rfc = GridSearchCV(estimator=rfc, param_grid=param_grid, cv=5)\n",
    "cv_rfc.fit(X_train, y_train)\n",
    "\n",
    "# Model Evaluation\n",
    "y_pred = cv_rfc.best_estimator_.predict(X_test)\n",
    "print(\"Best Parameters:\", cv_rfc.best_params_)\n",
    "print(\"Accuracy:\", accuracy_score(y_test, y_pred))\n",
    "print(\"Classification Report:\\n\", classification_report(y_test, y_pred))\n",
    "\n",
    "# Ensemble Learning: Combining multiple models\n",
    "from sklearn.svm import SVC\n",
    "svm = SVC(probability=True)\n",
    "svm.fit(X_train, y_train)\n",
    "ensemble = VotingClassifier(estimators=[('rf', cv_rfc.best_estimator_), ('svm', svm)], voting='soft')\n",
    "ensemble.fit(X_train, y_train)\n",
    "y_ensemble_pred = ensemble.predict(X_test)\n",
    "print(\"Ensemble Accuracy:\", accuracy_score(y_test, y_ensemble_pred))\n",
    "\n",
    "# Save the best model for deployment\n",
    "import joblib\n",
    "joblib.dump(cv_rfc.best_estimator_, 'deploy_model.joblib')\n"
   ]
  }
 ],
 "metadata": {
  "kernelspec": {
   "display_name": "test",
   "language": "python",
   "name": "python3"
  },
  "language_info": {
   "codemirror_mode": {
    "name": "ipython",
    "version": 3
   },
   "file_extension": ".py",
   "mimetype": "text/x-python",
   "name": "python",
   "nbconvert_exporter": "python",
   "pygments_lexer": "ipython3",
   "version": "3.11.8"
  }
 },
 "nbformat": 4,
 "nbformat_minor": 2
}
